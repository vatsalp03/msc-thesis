{
 "cells": [
  {
   "cell_type": "code",
   "execution_count": null,
   "id": "fff93f6a-3325-44ae-98f0-a43cdb3099e9",
   "metadata": {},
   "outputs": [],
   "source": [
    "# Initalize important stuff\n",
    "import xspec as xs\n",
    "import matplotlib.pyplot as plt, numpy as np, pandas as pd\n",
    "import matplotlib.ticker as mticker\n",
    "import seaborn as sns\n",
    "sns.set(style='dark')\n",
    "import time\n",
    "from IPython.display import clear_output\n",
    "def clear(): time.sleep(0.1), clear_output()\n",
    "    \n",
    "xs.AllModels.lmod(\"acx\", \"/home/vatsal/soft/atomdbcx/xspec\")"
   ]
  },
  {
   "cell_type": "code",
   "execution_count": null,
   "id": "0a363649-663f-4825-8948-eedb86ec5a7a",
   "metadata": {},
   "outputs": [],
   "source": [
    "# Load XMM data\n",
    "xs.AllData.clear()\n",
    "d = xs.Spectrum('eq080420_src_bin5.ds')\n",
    "xs.Plot.xAxis = \"keV\"\n",
    "d.ignore(\"**-**\")\n",
    "d.notice(\"0.2-1\")\n",
    "\n",
    "clear()"
   ]
  },
  {
   "cell_type": "code",
   "execution_count": null,
   "id": "65d7a003-6073-465e-9002-4e66084a7609",
   "metadata": {},
   "outputs": [],
   "source": [
    "# Plot the XMM data\n",
    "xs.Plot('data')\n",
    "xmm_df = pd.DataFrame({'x_xmm':xs.Plot.x(), 'y_xmm':xs.Plot.y(), 'xerr_xmm':xs.Plot.xErr(), 'yerr_xmm':xs.Plot.yErr()})\n",
    "\n",
    "plt.figure(figsize=(10,4))\n",
    "plt.errorbar(x=xmm_df.x_xmm, y=xmm_df.y_xmm, xerr=xmm_df.xerr_xmm, yerr=xmm_df.yerr_xmm, fmt='.', elinewidth=0.6)\n",
    "plt.title(\"XMM equator solar min 2020 (bin5)\")\n",
    "plt.xlabel('Energy / keV')\n",
    "plt.ylabel('Counts / keV / s')\n",
    "plt.grid(color='w')\n",
    "\n",
    "# plt.savefig('xmm-solar-min-equator', bbox_inches='tight')"
   ]
  },
  {
   "cell_type": "code",
   "execution_count": null,
   "id": "29900b29-d901-424d-bf12-6ef8a467eb3b",
   "metadata": {},
   "outputs": [],
   "source": [
    "# Load models\n",
    "m = xs.Model('apec')\n",
    "\n",
    "m(1).values = 0.12  \t\t    # plasma temp kT\n",
    "m(2).values = 1 \t\t\t# Abundance\n",
    "m(3).values = 0 \t\t\t# Redshift\n",
    "m(4).values = 5.1e-06\t\t\t# Norm\n",
    "\n",
    "m(1).frozen = True\n",
    "m(2).frozen = True\n",
    "m(4).frozen = True\n",
    "\n",
    "# xs.Fit.nIterations = 50\n",
    "# xs.Fit.perform()\n",
    "\n",
    "xs.Plot('data')\n",
    "folded_model = xs.Plot.model()"
   ]
  },
  {
   "cell_type": "code",
   "execution_count": null,
   "id": "f36ae2ad-8ab1-4be0-a4ee-4906c5409af5",
   "metadata": {},
   "outputs": [],
   "source": [
    "# Saving and restoring our model\n",
    "\n",
    "!rm solar_min.xcm                    # Remove previous saved model\n",
    "xs.Xset.save('solar_min.xcm')        # Save current model\n",
    "xs.AllModels.clear()\n",
    "xs.Xset.restore('solar_min.xcm')     # Restore current model\n",
    "clear()"
   ]
  },
  {
   "cell_type": "code",
   "execution_count": null,
   "id": "d64b0f7d-9f96-4126-b9ac-72e4c514d63b",
   "metadata": {},
   "outputs": [],
   "source": [
    "# Make fake spectrum in LEM\n",
    "response_file = 'lem_09ev_110422.rmf'\n",
    "arf_file      = 'lem_110422.arf'\n",
    "exposure_time = '144000'\n",
    "\n",
    "!rm solar_min.fak                # Remove previous saved fake spectrum\n",
    "xs.AllData.clear()\n",
    "fs = xs.FakeitSettings(response=response_file, arf=arf_file, exposure=exposure_time)\n",
    "fs.fileName = 'solar_min.fak'    # Save current saved fake spectrum\n",
    "xs.AllData.fakeit(1,fs)\n",
    "\n",
    "# xs.Fit.nIterations = 50\n",
    "# xs.Fit.perform()\n",
    "clear()"
   ]
  },
  {
   "cell_type": "code",
   "execution_count": null,
   "id": "e03187dc-0052-4836-b6dd-8e5eb035ef9d",
   "metadata": {},
   "outputs": [],
   "source": [
    "# Plot LEM spectra\n",
    "xs.Plot('data')\n",
    "lem_df = pd.DataFrame({'x_lem':xs.Plot.x(), 'y_lem':xs.Plot.y(), 'xerr_lem':xs.Plot.xErr(), 'yerr_lem':xs.Plot.yErr()})\n",
    "\n",
    "fig = plt.figure()\n",
    "\n",
    "ax1 = fig.add_axes([0, 0, 1.2, 0.6], xlim=(0.2, 1))\n",
    "ax1.errorbar(x=xmm_df.x_xmm, y=xmm_df.y_xmm, xerr=xmm_df.xerr_xmm, yerr=xmm_df.yerr_xmm, fmt='.', elinewidth=0.6, label=\"XMM - North Aurora (08-04-2020)\")\n",
    "ax1.plot(xmm_df.x_xmm, folded_model, color='orangered', label='Best-fit Model (folded)')\n",
    "ax1.grid(color='w'), ax1.set_xticklabels([]), ax1.set_ylabel('Counts / s / keV')\n",
    "\n",
    "handles,labels = ax1.get_legend_handles_labels()\n",
    "handles = [handles[1], handles[0]]\n",
    "labels = [labels[1], labels[0]]\n",
    "ax1.legend(handles,labels)\n",
    "\n",
    "ax2 = fig.add_axes([0, -0.6, 1.2, 0.6], xlim=(0.2, 1))\n",
    "ax2.plot(lem_df.x_lem, lem_df.y_lem, label='LEM') \n",
    "ax2.grid(color='w'), ax2.set_xlabel('Energy / keV'), ax2.set_ylabel('Counts / s / keV'), ax2.legend()\n",
    "\n",
    "ax1.set_title(\"LEM Observation of Jupiter's Equatorial Disk For APEC Model at Solar Minimum\")\n",
    "\n",
    "# Secondary Axis: \n",
    "def tick_function(X): \n",
    "    V = 12.398/X\n",
    "    return [\"%.3f\" % z for z in V]\n",
    "\n",
    "ax1t = ax1.twiny()\n",
    "ax1tTicks = ax1.get_xticks()   \n",
    "ax1t.set_xticks(ax1tTicks)\n",
    "ax1t.set_xbound(ax1.get_xbound())\n",
    "ax1t.set_xticklabels(tick_function((ax1tTicks)))\n",
    "ax1t.set_xlabel('Wavelength ('+r'$\\AA$)')\n",
    "\n",
    "# plt.savefig('lem-solar-min-equator-apec.pdf', bbox_inches='tight')"
   ]
  },
  {
   "cell_type": "code",
   "execution_count": null,
   "id": "a83e14d7-541c-4e1f-93d2-59cefe9f8bea",
   "metadata": {},
   "outputs": [],
   "source": [
    "# Saving CSVs to manually look for peaks and find out the energy, then to look up the ion on atomdb\n",
    "# http://www.atomdb.org/Webguide/webguide.php\n",
    "\n",
    "# xmm_df.to_csv(r'xmm_min_df.csv', index=False)\n",
    "# lem_df.to_csv(r'lem_min_df.csv', index=False)"
   ]
  },
  {
   "cell_type": "code",
   "execution_count": null,
   "id": "1fffdbb3-e92f-4089-8a35-c104d65f542c",
   "metadata": {},
   "outputs": [],
   "source": []
  }
 ],
 "metadata": {
  "kernelspec": {
   "display_name": "Python 3 (ipykernel)",
   "language": "python",
   "name": "python3"
  },
  "language_info": {
   "codemirror_mode": {
    "name": "ipython",
    "version": 3
   },
   "file_extension": ".py",
   "mimetype": "text/x-python",
   "name": "python",
   "nbconvert_exporter": "python",
   "pygments_lexer": "ipython3",
   "version": "3.9.15"
  }
 },
 "nbformat": 4,
 "nbformat_minor": 5
}
