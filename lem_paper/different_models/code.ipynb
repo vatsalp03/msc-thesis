{
 "cells": [
  {
   "cell_type": "code",
   "execution_count": null,
   "id": "f332dbc1-af33-4516-9e89-43c749689463",
   "metadata": {},
   "outputs": [],
   "source": [
    "# Initalize important stuff\n",
    "import xspec as xs\n",
    "import matplotlib.pyplot as plt, numpy as np, pandas as pd\n",
    "import matplotlib.ticker as mticker\n",
    "import seaborn as sns\n",
    "sns.set(style='dark')\n",
    "import time\n",
    "from IPython.display import clear_output\n",
    "def clear(): time.sleep(0.1), clear_output()\n",
    "\n",
    "xs.AllModels.lmod(\"acx\", \"/home/vatsal/soft/atomdbcx/xspec\")"
   ]
  },
  {
   "cell_type": "code",
   "execution_count": null,
   "id": "490d78c1-e44b-4b21-8e27-b21f9ceeeb48",
   "metadata": {},
   "outputs": [],
   "source": [
    "# Load original spectrum file\n",
    "xs.AllData.clear()\n",
    "original_data = xs.Spectrum('north_080420_src_bin10.ds')\n",
    "xs.Plot.xAxis = \"keV\"\n",
    "original_data.ignore(\"**-**\")\n",
    "original_data.notice(\"0.2-0.9\")\n",
    "\n",
    "xs.Plot('data')\n",
    "xmm_df = pd.DataFrame({'x':xs.Plot.x(), 'y':xs.Plot.y(), 'xerr':xs.Plot.xErr(), 'yerr':xs.Plot.yErr()})\n",
    "\n",
    "clear()"
   ]
  },
  {
   "cell_type": "code",
   "execution_count": null,
   "id": "fc5084c1-7a9e-49b4-a9f3-84eca1c3da71",
   "metadata": {},
   "outputs": [],
   "source": [
    "# VACX MODEL\n",
    "xs.AllModels.clear()\n",
    "vacx = xs.Model('vacx')\n",
    "\n",
    "vacx(1).values = 0.164071 \t\t# plasma temp kT\n",
    "vacx(2).values = 0.1 \t\t\t# He\n",
    "vacx(3).values = 0 \t\t\t    # C\n",
    "vacx(4).values = 0 \t\t\t    # N\n",
    "vacx(5).values = 0.297569 \t\t# O\n",
    "vacx(6).values = 0 \t\t\t    # Ne\n",
    "vacx(7).values = 0 \t\t\t    # Mg\n",
    "vacx(8).values = 0 \t\t\t    # Al\n",
    "vacx(9).values = 0 \t\t\t    # Si\n",
    "vacx(10).values= 8.23918 \t\t# S\n",
    "vacx(11).values= 0 \t\t\t    # Ar\n",
    "vacx(12).values= 0 \t\t\t    # Ca\n",
    "vacx(13).values= 0 \t\t\t    # Fe\n",
    "vacx(14).values= 0 \t\t\t    # Ni\n",
    "vacx(15).values= 0 \t\t\t    # redshift\n",
    "vacx(16).values= 0 \t\t\t    # swcx\n",
    "vacx(17).values= 5\t \t\t\t# model\n",
    "vacx(18).values= 1.40847e-06\t# norm\n",
    "\n",
    "vacx(2).frozen = True\n",
    "vacx(5).frozen = False\n",
    "vacx(10).frozen = False\n",
    "\n",
    "xs.Fit.nIterations = 50\n",
    "xs.Fit.perform()\n",
    "\n",
    "xs.Plot('data')\n",
    "vacx_folded = xs.Plot.model()\n",
    "\n",
    "!rm vacx.xcm                     # Set name for model to be saved\n",
    "xs.Xset.save('vacx.xcm')        # Set name for model to be saved\n",
    "clear()"
   ]
  },
  {
   "cell_type": "code",
   "execution_count": null,
   "id": "7038b733-13fa-444e-a625-da4dcbb67066",
   "metadata": {},
   "outputs": [],
   "source": [
    "# Faking in LEM\n",
    "response_file = 'lem_09ev_110422.rmf'\n",
    "arf_file      = 'lem_110422.arf'\n",
    "exposure_time = '144000'\n",
    "\n",
    "# VACX\n",
    "xs.AllModels.clear()\n",
    "xs.Xset.restore('vacx.xcm')     # Set name for model to be saved\n",
    "!rm vacx.fak                # Set fake file name\n",
    "xs.AllData.clear()\n",
    "fs = xs.FakeitSettings(response=response_file, arf=arf_file, exposure=exposure_time)\n",
    "fs.fileName = 'vacx.fak'    # Set fake file name\n",
    "xs.AllData.fakeit(1,fs)\n",
    "#xs.Fit.nIterations = 50\n",
    "#xs.Fit.perform()\n",
    "xs.Plot('data')\n",
    "vacx_df = pd.DataFrame({'x':xs.Plot.x(), 'y':xs.Plot.y(), 'xerr':xs.Plot.xErr(), 'yerr':xs.Plot.yErr()})\n",
    "\n",
    "clear()"
   ]
  },
  {
   "cell_type": "code",
   "execution_count": null,
   "id": "caa9a46d-e2fe-4af9-b024-861887d202d0",
   "metadata": {},
   "outputs": [],
   "source": [
    "fig = plt.figure()\n",
    "\n",
    "ax1 = fig.add_axes([0, -1.8, 1.2, 0.6], xlim=(0.25, 0.8))\n",
    "ax1.plot(vacx_df.x, vacx_df.y)\n",
    "ax1.grid(color='w')\n",
    "ax1.set_ylabel('Counts / s / keV')\n",
    "ax1.set_xlabel('Energy / keV')\n",
    "\n",
    "# plt.savefig('acx-vacxCNO-vacxSO.pdf', bbox_inches='tight', dpi=600)"
   ]
  },
  {
   "cell_type": "code",
   "execution_count": null,
   "id": "b1647890-63e5-493b-a451-fd972775d751",
   "metadata": {},
   "outputs": [],
   "source": [
    "# This is a bit of a lazy method of doing this but I felt this was way easier than any other method.\n",
    "# I change the models (5-9) manually and run the code for each one, saving the final lem dataframes for each one of them.\n",
    "# And then I compile them together using a different bit of code.\n",
    "\n",
    "\n",
    "# Uncomment to save dataframe to csv\n",
    "# lem_df.to_csv(r'm5_df.csv', index=False)"
   ]
  },
  {
   "cell_type": "code",
   "execution_count": null,
   "id": "80b24647-b8a3-4a49-8e21-66db0bda76b7",
   "metadata": {},
   "outputs": [],
   "source": [
    "# Compiling all the models togethre\n",
    "\n",
    "m5_df = pd.read_csv('m5_df.csv')\n",
    "m6_df = pd.read_csv('m6_df.csv')\n",
    "m7_df = pd.read_csv('m7_df.csv')\n",
    "m8_df = pd.read_csv('m8_df.csv')"
   ]
  },
  {
   "cell_type": "code",
   "execution_count": null,
   "id": "292995e1-6c0b-4bed-8887-d1398e36c259",
   "metadata": {},
   "outputs": [],
   "source": [
    "fig = plt.figure()\n",
    "\n",
    "ax1 = fig.add_axes([0, 0, 1.2, 0.6], xlim=(0.25, 0.8), ylim=(-0.4,7.5))\n",
    "ax1.plot(m5_df.x, m5_df.y, label='Evenly Weighted by Angular Momentum') \n",
    "ax1.grid(color='w'), ax1.set_xticklabels([]), ax1.set_ylabel('Counts / s / keV'), ax1.legend()\n",
    "\n",
    "ax2 = fig.add_axes([0, -0.6, 1.2, 0.6],  xlim=(0.25, 0.8), ylim=(-0.4,7.5))\n",
    "ax2.plot(m6_df.x, m6_df.y, label='Weighted by the Relative Statistical Weight of each level')\n",
    "ax2.grid(color='w'), ax2.set_xticklabels([]), ax2.set_ylabel('Counts / s / keV'), ax2.legend()\n",
    "\n",
    "ax3 = fig.add_axes([0, -1.2, 1.2, 0.6],  xlim=(0.25, 0.8), ylim=(-0.4,7.5))\n",
    "ax3.plot(m7_df.x, m7_df.y, label='Landau-Zener Model') \n",
    "ax3.grid(color='w'), ax3.set_xticklabels([]), ax3.set_ylabel('Counts / s / keV'), ax3.legend()\n",
    "\n",
    "ax4 = fig.add_axes([0, -1.8, 1.2, 0.6],  xlim=(0.25, 0.8), ylim=(-0.4,7.5))\n",
    "ax4.plot(m8_df.x, m8_df.y, label='Separable Model')\n",
    "ax4.grid(color='w'), ax4.set_ylabel('Counts / s / keV'), ax4.legend(), ax4.set_xlabel('Energy / keV')\n",
    "\n",
    "ax1.set_title(\"Effect of Different CX Physics Models on LEM Spectrum\")\n",
    "\n",
    "# plt.savefig('different_models.pdf', bbox_inches='tight', dpi=600)"
   ]
  },
  {
   "cell_type": "code",
   "execution_count": null,
   "id": "c591df38-e380-45a3-9896-a55766b4a0d7",
   "metadata": {},
   "outputs": [],
   "source": []
  }
 ],
 "metadata": {
  "kernelspec": {
   "display_name": "Python 3 (ipykernel)",
   "language": "python",
   "name": "python3"
  },
  "language_info": {
   "codemirror_mode": {
    "name": "ipython",
    "version": 3
   },
   "file_extension": ".py",
   "mimetype": "text/x-python",
   "name": "python",
   "nbconvert_exporter": "python",
   "pygments_lexer": "ipython3",
   "version": "3.9.15"
  }
 },
 "nbformat": 4,
 "nbformat_minor": 5
}
